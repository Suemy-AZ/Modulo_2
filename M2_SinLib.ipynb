{
  "nbformat": 4,
  "nbformat_minor": 0,
  "metadata": {
    "colab": {
      "name": "M2.ipynb",
      "provenance": [],
      "authorship_tag": "ABX9TyN1O5Q4xdJ7kNhiedY8NvFD",
      "include_colab_link": true
    },
    "kernelspec": {
      "name": "python3",
      "display_name": "Python 3"
    },
    "language_info": {
      "name": "python"
    }
  },
  "cells": [
    {
      "cell_type": "markdown",
      "metadata": {
        "id": "view-in-github",
        "colab_type": "text"
      },
      "source": [
        "<a href=\"https://colab.research.google.com/github/Suemy-AZ/Modulo_2/blob/main/M2_SinLib.ipynb\" target=\"_parent\"><img src=\"https://colab.research.google.com/assets/colab-badge.svg\" alt=\"Open In Colab\"/></a>"
      ]
    },
    {
      "cell_type": "code",
      "execution_count": 1,
      "metadata": {
        "colab": {
          "base_uri": "https://localhost:8080/",
          "height": 460
        },
        "id": "0ENW8vE1k7S8",
        "outputId": "91797605-7e8a-4714-e258-4bdc66c7f070"
      },
      "outputs": [
        {
          "output_type": "stream",
          "name": "stdout",
          "text": [
            "Mounted at /content/gdrive\n",
            "/content/gdrive/MyDrive/7mo semestre/AD2022\n"
          ]
        },
        {
          "output_type": "execute_result",
          "data": {
            "text/plain": [
              "     class  alcohol  malic   ash  alcalinity   Mg  tphenols  flav  nonflav  \\\n",
              "0        1    14.23   1.71  2.43        15.6  127      2.80  3.06     0.28   \n",
              "1        1    13.20   1.78  2.14        11.2  100      2.65  2.76     0.26   \n",
              "2        1    13.16   2.36  2.67        18.6  101      2.80  3.24     0.30   \n",
              "3        1    14.37   1.95  2.50        16.8  113      3.85  3.49     0.24   \n",
              "4        1    13.24   2.59  2.87        21.0  118      2.80  2.69     0.39   \n",
              "..     ...      ...    ...   ...         ...  ...       ...   ...      ...   \n",
              "173      3    13.71   5.65  2.45        20.5   95      1.68  0.61     0.52   \n",
              "174      3    13.40   3.91  2.48        23.0  102      1.80  0.75     0.43   \n",
              "175      3    13.27   4.28  2.26        20.0  120      1.59  0.69     0.43   \n",
              "176      3    13.17   2.59  2.37        20.0  120      1.65  0.68     0.53   \n",
              "177      3    14.13   4.10  2.74        24.5   96      2.05  0.76     0.56   \n",
              "\n",
              "     proantho  color   hue  diluted  proline  \n",
              "0        2.29   5.64  1.04     3.92     1065  \n",
              "1        1.28   4.38  1.05     3.40     1050  \n",
              "2        2.81   5.68  1.03     3.17     1185  \n",
              "3        2.18   7.80  0.86     3.45     1480  \n",
              "4        1.82   4.32  1.04     2.93      735  \n",
              "..        ...    ...   ...      ...      ...  \n",
              "173      1.06   7.70  0.64     1.74      740  \n",
              "174      1.41   7.30  0.70     1.56      750  \n",
              "175      1.35  10.20  0.59     1.56      835  \n",
              "176      1.46   9.30  0.60     1.62      840  \n",
              "177      1.35   9.20  0.61     1.60      560  \n",
              "\n",
              "[178 rows x 14 columns]"
            ],
            "text/html": [
              "\n",
              "  <div id=\"df-0d1a4403-a900-44af-96de-6b7000bce4b1\">\n",
              "    <div class=\"colab-df-container\">\n",
              "      <div>\n",
              "<style scoped>\n",
              "    .dataframe tbody tr th:only-of-type {\n",
              "        vertical-align: middle;\n",
              "    }\n",
              "\n",
              "    .dataframe tbody tr th {\n",
              "        vertical-align: top;\n",
              "    }\n",
              "\n",
              "    .dataframe thead th {\n",
              "        text-align: right;\n",
              "    }\n",
              "</style>\n",
              "<table border=\"1\" class=\"dataframe\">\n",
              "  <thead>\n",
              "    <tr style=\"text-align: right;\">\n",
              "      <th></th>\n",
              "      <th>class</th>\n",
              "      <th>alcohol</th>\n",
              "      <th>malic</th>\n",
              "      <th>ash</th>\n",
              "      <th>alcalinity</th>\n",
              "      <th>Mg</th>\n",
              "      <th>tphenols</th>\n",
              "      <th>flav</th>\n",
              "      <th>nonflav</th>\n",
              "      <th>proantho</th>\n",
              "      <th>color</th>\n",
              "      <th>hue</th>\n",
              "      <th>diluted</th>\n",
              "      <th>proline</th>\n",
              "    </tr>\n",
              "  </thead>\n",
              "  <tbody>\n",
              "    <tr>\n",
              "      <th>0</th>\n",
              "      <td>1</td>\n",
              "      <td>14.23</td>\n",
              "      <td>1.71</td>\n",
              "      <td>2.43</td>\n",
              "      <td>15.6</td>\n",
              "      <td>127</td>\n",
              "      <td>2.80</td>\n",
              "      <td>3.06</td>\n",
              "      <td>0.28</td>\n",
              "      <td>2.29</td>\n",
              "      <td>5.64</td>\n",
              "      <td>1.04</td>\n",
              "      <td>3.92</td>\n",
              "      <td>1065</td>\n",
              "    </tr>\n",
              "    <tr>\n",
              "      <th>1</th>\n",
              "      <td>1</td>\n",
              "      <td>13.20</td>\n",
              "      <td>1.78</td>\n",
              "      <td>2.14</td>\n",
              "      <td>11.2</td>\n",
              "      <td>100</td>\n",
              "      <td>2.65</td>\n",
              "      <td>2.76</td>\n",
              "      <td>0.26</td>\n",
              "      <td>1.28</td>\n",
              "      <td>4.38</td>\n",
              "      <td>1.05</td>\n",
              "      <td>3.40</td>\n",
              "      <td>1050</td>\n",
              "    </tr>\n",
              "    <tr>\n",
              "      <th>2</th>\n",
              "      <td>1</td>\n",
              "      <td>13.16</td>\n",
              "      <td>2.36</td>\n",
              "      <td>2.67</td>\n",
              "      <td>18.6</td>\n",
              "      <td>101</td>\n",
              "      <td>2.80</td>\n",
              "      <td>3.24</td>\n",
              "      <td>0.30</td>\n",
              "      <td>2.81</td>\n",
              "      <td>5.68</td>\n",
              "      <td>1.03</td>\n",
              "      <td>3.17</td>\n",
              "      <td>1185</td>\n",
              "    </tr>\n",
              "    <tr>\n",
              "      <th>3</th>\n",
              "      <td>1</td>\n",
              "      <td>14.37</td>\n",
              "      <td>1.95</td>\n",
              "      <td>2.50</td>\n",
              "      <td>16.8</td>\n",
              "      <td>113</td>\n",
              "      <td>3.85</td>\n",
              "      <td>3.49</td>\n",
              "      <td>0.24</td>\n",
              "      <td>2.18</td>\n",
              "      <td>7.80</td>\n",
              "      <td>0.86</td>\n",
              "      <td>3.45</td>\n",
              "      <td>1480</td>\n",
              "    </tr>\n",
              "    <tr>\n",
              "      <th>4</th>\n",
              "      <td>1</td>\n",
              "      <td>13.24</td>\n",
              "      <td>2.59</td>\n",
              "      <td>2.87</td>\n",
              "      <td>21.0</td>\n",
              "      <td>118</td>\n",
              "      <td>2.80</td>\n",
              "      <td>2.69</td>\n",
              "      <td>0.39</td>\n",
              "      <td>1.82</td>\n",
              "      <td>4.32</td>\n",
              "      <td>1.04</td>\n",
              "      <td>2.93</td>\n",
              "      <td>735</td>\n",
              "    </tr>\n",
              "    <tr>\n",
              "      <th>...</th>\n",
              "      <td>...</td>\n",
              "      <td>...</td>\n",
              "      <td>...</td>\n",
              "      <td>...</td>\n",
              "      <td>...</td>\n",
              "      <td>...</td>\n",
              "      <td>...</td>\n",
              "      <td>...</td>\n",
              "      <td>...</td>\n",
              "      <td>...</td>\n",
              "      <td>...</td>\n",
              "      <td>...</td>\n",
              "      <td>...</td>\n",
              "      <td>...</td>\n",
              "    </tr>\n",
              "    <tr>\n",
              "      <th>173</th>\n",
              "      <td>3</td>\n",
              "      <td>13.71</td>\n",
              "      <td>5.65</td>\n",
              "      <td>2.45</td>\n",
              "      <td>20.5</td>\n",
              "      <td>95</td>\n",
              "      <td>1.68</td>\n",
              "      <td>0.61</td>\n",
              "      <td>0.52</td>\n",
              "      <td>1.06</td>\n",
              "      <td>7.70</td>\n",
              "      <td>0.64</td>\n",
              "      <td>1.74</td>\n",
              "      <td>740</td>\n",
              "    </tr>\n",
              "    <tr>\n",
              "      <th>174</th>\n",
              "      <td>3</td>\n",
              "      <td>13.40</td>\n",
              "      <td>3.91</td>\n",
              "      <td>2.48</td>\n",
              "      <td>23.0</td>\n",
              "      <td>102</td>\n",
              "      <td>1.80</td>\n",
              "      <td>0.75</td>\n",
              "      <td>0.43</td>\n",
              "      <td>1.41</td>\n",
              "      <td>7.30</td>\n",
              "      <td>0.70</td>\n",
              "      <td>1.56</td>\n",
              "      <td>750</td>\n",
              "    </tr>\n",
              "    <tr>\n",
              "      <th>175</th>\n",
              "      <td>3</td>\n",
              "      <td>13.27</td>\n",
              "      <td>4.28</td>\n",
              "      <td>2.26</td>\n",
              "      <td>20.0</td>\n",
              "      <td>120</td>\n",
              "      <td>1.59</td>\n",
              "      <td>0.69</td>\n",
              "      <td>0.43</td>\n",
              "      <td>1.35</td>\n",
              "      <td>10.20</td>\n",
              "      <td>0.59</td>\n",
              "      <td>1.56</td>\n",
              "      <td>835</td>\n",
              "    </tr>\n",
              "    <tr>\n",
              "      <th>176</th>\n",
              "      <td>3</td>\n",
              "      <td>13.17</td>\n",
              "      <td>2.59</td>\n",
              "      <td>2.37</td>\n",
              "      <td>20.0</td>\n",
              "      <td>120</td>\n",
              "      <td>1.65</td>\n",
              "      <td>0.68</td>\n",
              "      <td>0.53</td>\n",
              "      <td>1.46</td>\n",
              "      <td>9.30</td>\n",
              "      <td>0.60</td>\n",
              "      <td>1.62</td>\n",
              "      <td>840</td>\n",
              "    </tr>\n",
              "    <tr>\n",
              "      <th>177</th>\n",
              "      <td>3</td>\n",
              "      <td>14.13</td>\n",
              "      <td>4.10</td>\n",
              "      <td>2.74</td>\n",
              "      <td>24.5</td>\n",
              "      <td>96</td>\n",
              "      <td>2.05</td>\n",
              "      <td>0.76</td>\n",
              "      <td>0.56</td>\n",
              "      <td>1.35</td>\n",
              "      <td>9.20</td>\n",
              "      <td>0.61</td>\n",
              "      <td>1.60</td>\n",
              "      <td>560</td>\n",
              "    </tr>\n",
              "  </tbody>\n",
              "</table>\n",
              "<p>178 rows × 14 columns</p>\n",
              "</div>\n",
              "      <button class=\"colab-df-convert\" onclick=\"convertToInteractive('df-0d1a4403-a900-44af-96de-6b7000bce4b1')\"\n",
              "              title=\"Convert this dataframe to an interactive table.\"\n",
              "              style=\"display:none;\">\n",
              "        \n",
              "  <svg xmlns=\"http://www.w3.org/2000/svg\" height=\"24px\"viewBox=\"0 0 24 24\"\n",
              "       width=\"24px\">\n",
              "    <path d=\"M0 0h24v24H0V0z\" fill=\"none\"/>\n",
              "    <path d=\"M18.56 5.44l.94 2.06.94-2.06 2.06-.94-2.06-.94-.94-2.06-.94 2.06-2.06.94zm-11 1L8.5 8.5l.94-2.06 2.06-.94-2.06-.94L8.5 2.5l-.94 2.06-2.06.94zm10 10l.94 2.06.94-2.06 2.06-.94-2.06-.94-.94-2.06-.94 2.06-2.06.94z\"/><path d=\"M17.41 7.96l-1.37-1.37c-.4-.4-.92-.59-1.43-.59-.52 0-1.04.2-1.43.59L10.3 9.45l-7.72 7.72c-.78.78-.78 2.05 0 2.83L4 21.41c.39.39.9.59 1.41.59.51 0 1.02-.2 1.41-.59l7.78-7.78 2.81-2.81c.8-.78.8-2.07 0-2.86zM5.41 20L4 18.59l7.72-7.72 1.47 1.35L5.41 20z\"/>\n",
              "  </svg>\n",
              "      </button>\n",
              "      \n",
              "  <style>\n",
              "    .colab-df-container {\n",
              "      display:flex;\n",
              "      flex-wrap:wrap;\n",
              "      gap: 12px;\n",
              "    }\n",
              "\n",
              "    .colab-df-convert {\n",
              "      background-color: #E8F0FE;\n",
              "      border: none;\n",
              "      border-radius: 50%;\n",
              "      cursor: pointer;\n",
              "      display: none;\n",
              "      fill: #1967D2;\n",
              "      height: 32px;\n",
              "      padding: 0 0 0 0;\n",
              "      width: 32px;\n",
              "    }\n",
              "\n",
              "    .colab-df-convert:hover {\n",
              "      background-color: #E2EBFA;\n",
              "      box-shadow: 0px 1px 2px rgba(60, 64, 67, 0.3), 0px 1px 3px 1px rgba(60, 64, 67, 0.15);\n",
              "      fill: #174EA6;\n",
              "    }\n",
              "\n",
              "    [theme=dark] .colab-df-convert {\n",
              "      background-color: #3B4455;\n",
              "      fill: #D2E3FC;\n",
              "    }\n",
              "\n",
              "    [theme=dark] .colab-df-convert:hover {\n",
              "      background-color: #434B5C;\n",
              "      box-shadow: 0px 1px 3px 1px rgba(0, 0, 0, 0.15);\n",
              "      filter: drop-shadow(0px 1px 2px rgba(0, 0, 0, 0.3));\n",
              "      fill: #FFFFFF;\n",
              "    }\n",
              "  </style>\n",
              "\n",
              "      <script>\n",
              "        const buttonEl =\n",
              "          document.querySelector('#df-0d1a4403-a900-44af-96de-6b7000bce4b1 button.colab-df-convert');\n",
              "        buttonEl.style.display =\n",
              "          google.colab.kernel.accessAllowed ? 'block' : 'none';\n",
              "\n",
              "        async function convertToInteractive(key) {\n",
              "          const element = document.querySelector('#df-0d1a4403-a900-44af-96de-6b7000bce4b1');\n",
              "          const dataTable =\n",
              "            await google.colab.kernel.invokeFunction('convertToInteractive',\n",
              "                                                     [key], {});\n",
              "          if (!dataTable) return;\n",
              "\n",
              "          const docLinkHtml = 'Like what you see? Visit the ' +\n",
              "            '<a target=\"_blank\" href=https://colab.research.google.com/notebooks/data_table.ipynb>data table notebook</a>'\n",
              "            + ' to learn more about interactive tables.';\n",
              "          element.innerHTML = '';\n",
              "          dataTable['output_type'] = 'display_data';\n",
              "          await google.colab.output.renderOutput(dataTable, element);\n",
              "          const docLink = document.createElement('div');\n",
              "          docLink.innerHTML = docLinkHtml;\n",
              "          element.appendChild(docLink);\n",
              "        }\n",
              "      </script>\n",
              "    </div>\n",
              "  </div>\n",
              "  "
            ]
          },
          "metadata": {},
          "execution_count": 1
        }
      ],
      "source": [
        "#Suemy Aquino Zumaya\n",
        "#A00828585\n",
        "#08/2022\n",
        "#Módulo 2\n",
        "\n",
        "from google.colab import drive  # importa libreria\n",
        "drive.mount(\"/content/gdrive\");  # utiliza comando\n",
        "#!pwd\n",
        "#put your own path in google drive\n",
        "%cd \"/content/gdrive/MyDrive/7mo semestre/AD2022\"\n",
        "#!ls\n",
        "import pandas as pd # importar libreria\n",
        "columns = [\"class\",\"alcohol\",\"malic\",\"ash\", \"alcalinity\",\"Mg\",\"tphenols\",\"flav\",\"nonflav\",\"proantho\",\"color\",\"hue\",\"diluted\",\"proline\"]\n",
        "# Open the file and create the data frame\n",
        "df = pd.read_csv('wine.data',names = columns)\n",
        "df"
      ]
    },
    {
      "cell_type": "markdown",
      "source": [
        "Ya que se tienen 3 clases se realizarán un ejercicio de clasificación donde se definirá una ecuación por cada clase con el fin de obtener la probabilidad según la o las características que se estudien eligiendo la más alta como clase final.\n",
        "\n",
        "Se probará el caso de orden 1 y 2 con una ecuación de hipótesis de transformación de la regresión lineal y una función de costo log-loss además de que se utilizará gradiente descendiente para la obtimización de los coeficientes."
      ],
      "metadata": {
        "id": "JtWfseQBfhNv"
      }
    },
    {
      "cell_type": "markdown",
      "source": [
        "## Definiendo las funciones"
      ],
      "metadata": {
        "id": "QEzdV3km8Q3M"
      }
    },
    {
      "cell_type": "code",
      "source": [
        "##### Orden 1 ####\n",
        "def orden1 (x_train,y_train,theta,alpha,h,j_i):\n",
        "  n=len(y_train)\n",
        "  for idx in range (1000):\n",
        "    zDelta =[]\n",
        "    zDeltaX=[]\n",
        "    for x_i, y_i in zip (x_train,y_train):\n",
        "      zDelta.append(h(x_i,theta)-y_i)\n",
        "      zDeltaX.append ((h(x_i,theta)-y_i)*x_i)\n",
        "\n",
        "    sJt0=sum(zDelta)\n",
        "    sJt1=sum(zDeltaX)\n",
        "   #Gradiente descendiente para optimización de theta\n",
        "    theta[0]= theta[0]-alpha/n*sJt0 \n",
        "    theta[1]=theta[1]-alpha/n*sJt1\n",
        "  print(theta)\n",
        "  return theta\n",
        "\n",
        "##### Orden 2 #####\n",
        "def orden2 (x_train,x2_train,y_train,theta,alpha,h,j_i):\n",
        "  n=len(y_train)\n",
        "  for idx in range (1000):\n",
        "    zDelta =[]\n",
        "    zDeltaX=[]\n",
        "    zDeltaX2=[]\n",
        "    \n",
        "    for x_i, y_i,x2_i in zip (x_train,y_train,x2_train):\n",
        "      zDelta.append(h(x_i,x2_i,theta)-y_i)\n",
        "      zDeltaX.append ((h(x_i,x2_i,theta)-y_i)*x_i)\n",
        "      zDeltaX2.append ((h(x_i,x2_i,theta)-y_i)*x2_i)\n",
        "\n",
        "    sJt0=sum(zDelta)\n",
        "    sJt1=sum(zDeltaX)\n",
        "    sJt2=sum(zDeltaX2)\n",
        "   #Gradiente descendiente para optimización de theta\n",
        "    theta[0]= theta[0]-alpha/n*sJt0\n",
        "    theta[1]=theta[1]-alpha/n*sJt1\n",
        "    theta[2]=theta[2]-alpha/n*sJt2\n",
        "  print(theta)\n",
        "  return theta\n",
        "\n",
        "#### Validar la theta obtenida Orden 2 ####\n",
        "def validate2(x_c1t,x2t,y_c1t,x_c1v,x2v,y_c1v,theta,j2_i):\n",
        "  n_t = len(y_c1v)\n",
        "  n_v = len(y_c1t)\n",
        "\n",
        "  # Validación\n",
        "  zDelta = []\n",
        "  for x_i, y_i, x2_i in zip(x_c1t,x2t,y_c1t):\n",
        "    zDelta.append(j2_i(x_i,x2_i,y_i,theta))  \n",
        "\n",
        "  sDelta = sum(zDelta)  \n",
        "  J_validate = 1/(2*n_v)*sDelta\n",
        "\n",
        "\n",
        "  # Entrenamiento\n",
        "  zDelta = []\n",
        "  for x_i, y_i,x2_i in zip(x_c1v,y_c1v,x2v):\n",
        "    zDelta.append(j2_i(x_i,x2_i,y_i,theta))  \n",
        "\n",
        "  sDelta = sum(zDelta)  \n",
        "  J_train = 1/(2*n_t)*sDelta\n",
        "\n",
        "  print(J_validate)\n",
        "  print(J_train)\n",
        "\n",
        "#### Validar la theta obtenida Orden 2 ####\n",
        "\n",
        "def validate(x_c1t,y_c1t,x_c1v,y_c1v,theta):\n",
        "  n_train = len(y_c1v)\n",
        "  n_val = len(y_c1t)\n",
        "\n",
        "  # Validación\n",
        "  zDelta = []\n",
        "  for x_i, y_i in zip(x_c1t,y_c1t):\n",
        "    zDelta.append(j_i(x_i,y_i,theta))  \n",
        "\n",
        "  sDelta = sum(zDelta)  \n",
        "  J_validate = 1/(2*n_val)*sDelta\n",
        "\n",
        "\n",
        "  # Entenamiento\n",
        "  zDelta = []\n",
        "  for x_i, y_i in zip(x_c1v,y_c1v):\n",
        "    zDelta.append(j_i(x_i,y_i,theta))  \n",
        "\n",
        "  sDelta = sum(zDelta)  \n",
        "  J_train = 1/(2*n_train)*sDelta\n",
        "\n",
        "  print(J_validate)\n",
        "  print(J_train)"
      ],
      "metadata": {
        "id": "PaP_rj-OwFn_"
      },
      "execution_count": 3,
      "outputs": []
    },
    {
      "cell_type": "markdown",
      "source": [
        "# Implementación del algoritmo para la característica \"malic\"\n",
        "\n"
      ],
      "metadata": {
        "id": "QfzkSdujcE9w"
      }
    },
    {
      "cell_type": "code",
      "source": [
        "import numpy as np\n",
        "x= df[[\"malic\"]].to_numpy()\n",
        "y= df[[\"class\"]].to_numpy()\n",
        "\n",
        "from sklearn.model_selection import train_test_split\n",
        "\n",
        "#Se realizan la transformación a 0 y 1 dependiendo de la clase a la que pertenezca\n",
        "\n",
        "c1=np.where(df[\"class\"] == 1, 1,0 )\n",
        "c2=np.where(df[\"class\"] == 2, 1,0 )\n",
        "c3=np.where(df[\"class\"] == 3, 1,0 )\n",
        "\n",
        "#Se dividen los datos entre entrenamiento y pruebas\n",
        "x_c1t, x_c1v, y_c1t, y_c1v = train_test_split(x,c1,random_state=0)\n",
        "x_c2t, x_c2v, y_c2t, y_c2v = train_test_split(x,c2,random_state=0)\n",
        "x_c3t, x_c3v, y_c3t, y_c3v = train_test_split(x,c3,random_state=0)\n"
      ],
      "metadata": {
        "id": "lLENDDp2S4gE"
      },
      "execution_count": 4,
      "outputs": []
    },
    {
      "cell_type": "markdown",
      "source": [
        "## Orden 1"
      ],
      "metadata": {
        "id": "xPcaGlgM1Oi4"
      }
    },
    {
      "cell_type": "code",
      "source": [
        "from math import e,log\n",
        "h   = lambda x,theta: 1/(1+e**(-(theta[0]+theta[1]*x))) #Función de hipótesis (orden 1)\n",
        "j_i = lambda x,y,theta: y*log(h(x,theta),e) + (1-y)*log(1-h(x,theta),e) #Función de costo\n",
        "\n",
        "print(\"Theta clase 1\")\n",
        "theta11=orden1(x_c1t,y_c1t,[1,1],0.1,h,j_i)\n",
        "print(\"Theta clase 2\")\n",
        "theta21=orden1(x_c2t,y_c2t,[1,1],0.1,h,j_i)\n",
        "print(\"Theta clase 3\")\n",
        "theta31=orden1(x_c3t,y_c3t,[1,1],0.1,h,j_i)\n",
        "print(\"\\n\")\n",
        "print(\"Validación clase 1 [train test]\")\n",
        "validate(x_c1t,y_c1t,x_c1v,y_c1v,theta11)\n",
        "print(\"Validación clase 2 [train test]\")\n",
        "validate(x_c2t,y_c2t,x_c2v,y_c2v,theta21)\n",
        "print(\"Validación clase 3 [train test]\")\n",
        "validate(x_c3t,y_c3t,x_c3v,y_c3v,theta31)"
      ],
      "metadata": {
        "id": "Ryr_cijYwjk6",
        "outputId": "5f11864d-07d2-4781-d873-2488ea3e77ff",
        "colab": {
          "base_uri": "https://localhost:8080/"
        }
      },
      "execution_count": 5,
      "outputs": [
        {
          "output_type": "stream",
          "name": "stdout",
          "text": [
            "Theta clase 1\n",
            "[array([0.32021686]), array([-0.4639745])]\n",
            "Theta clase 2\n",
            "[array([1.0889121]), array([-0.70943867])]\n",
            "Theta clase 3\n",
            "[array([-3.50435379]), array([1.05933685])]\n",
            "\n",
            "\n",
            "Validación clase 1 [train test]\n",
            "-0.30255992406257737\n",
            "-0.3166778820121002\n",
            "Validación clase 2 [train test]\n",
            "-0.30242474277247483\n",
            "-0.3429307180162848\n",
            "Validación clase 3 [train test]\n",
            "-0.22834788202298198\n",
            "-0.19489046898451873\n"
          ]
        }
      ]
    },
    {
      "cell_type": "markdown",
      "source": [
        "### Visualización de la curva obtenida por cada clase"
      ],
      "metadata": {
        "id": "eI9MetdAhz7t"
      }
    },
    {
      "cell_type": "code",
      "source": [
        "import matplotlib.pyplot as pt\n",
        "\n",
        "pt.scatter(x,c1)\n",
        "pt.scatter(x,h(x,theta11))\n",
        "\n",
        "pt.title(\"Clase 1 - Orden 1\")"
      ],
      "metadata": {
        "id": "jGEEKL2AuWL9",
        "outputId": "9b09e076-d3b6-43d4-b8f4-5b3a14e63271",
        "colab": {
          "base_uri": "https://localhost:8080/",
          "height": 299
        }
      },
      "execution_count": 6,
      "outputs": [
        {
          "output_type": "execute_result",
          "data": {
            "text/plain": [
              "Text(0.5, 1.0, 'Clase 1 - Orden 1')"
            ]
          },
          "metadata": {},
          "execution_count": 6
        },
        {
          "output_type": "display_data",
          "data": {
            "text/plain": [
              "<Figure size 432x288 with 1 Axes>"
            ],
            "image/png": "[encoded data removed]"
          },
          "metadata": {
            "needs_background": "light"
          }
        }
      ]
    },
    {
      "cell_type": "code",
      "source": [
        "pt.scatter(x,c2)\n",
        "pt.scatter(x,h(x,theta21))\n",
        "pt.title(\"Clase 2 - Orden 1\")"
      ],
      "metadata": {
        "id": "Chdf-oE3zn9-",
        "outputId": "9f80a00c-cce3-4d49-ad05-1109294fa61e",
        "colab": {
          "base_uri": "https://localhost:8080/",
          "height": 299
        }
      },
      "execution_count": 7,
      "outputs": [
        {
          "output_type": "execute_result",
          "data": {
            "text/plain": [
              "Text(0.5, 1.0, 'Clase 2 - Orden 1')"
            ]
          },
          "metadata": {},
          "execution_count": 7
        },
        {
          "output_type": "display_data",
          "data": {
            "text/plain": [
              "<Figure size 432x288 with 1 Axes>"
            ],
            "image/png": "[encoded data removed]"
          },
          "metadata": {
            "needs_background": "light"
          }
        }
      ]
    },
    {
      "cell_type": "code",
      "source": [
        "pt.scatter(x,c3)\n",
        "pt.scatter(x,h(x,theta31))\n",
        "pt.title(\"Clase 3 - Orden 1\")"
      ],
      "metadata": {
        "id": "ijNArVsPzp9b",
        "outputId": "09c36b3f-188b-49ac-cf9c-a3cab567c932",
        "colab": {
          "base_uri": "https://localhost:8080/",
          "height": 299
        }
      },
      "execution_count": 8,
      "outputs": [
        {
          "output_type": "execute_result",
          "data": {
            "text/plain": [
              "Text(0.5, 1.0, 'Clase 3 - Orden 1')"
            ]
          },
          "metadata": {},
          "execution_count": 8
        },
        {
          "output_type": "display_data",
          "data": {
            "text/plain": [
              "<Figure size 432x288 with 1 Axes>"
            ],
            "image/png": "[encoded data removed]"
          },
          "metadata": {
            "needs_background": "light"
          }
        }
      ]
    },
    {
      "cell_type": "markdown",
      "source": [
        "### Pruebas de predicción"
      ],
      "metadata": {
        "id": "4eo0dVMsZHZq"
      }
    },
    {
      "cell_type": "code",
      "source": [
        "#Prueba Clase 1\n",
        "print(\"Predicción clase 1\")\n",
        "x0=x[50]  \n",
        "y0=y[50]\n",
        "prob= [h(x0,theta11),h(x0,theta21),h(x0,theta31)]\n",
        "\n",
        "print(\"Valores x1: \",x0)\n",
        "print(\"Probabilidad por clase\",h(x0,theta11),h(x0,theta21),h(x0,theta31))\n",
        "\n",
        "if max(prob)==prob[0]:\n",
        "  pred=1\n",
        "elif max(prob)==prob[1]:\n",
        "  pred=2\n",
        "else:\n",
        "  pred=3\n",
        "\n",
        "print(\"Clase predicción: \",pred)\n",
        "print(\"Clase real: \",y0,\"\\n\")\n",
        "\n",
        "#Prueba Clase 2\n",
        "print(\"Predicción clase 2\")\n",
        "x0=x[75]  \n",
        "y0=y[75]\n",
        "prob= [h(x0,theta11),h(x0,theta21),h(x0,theta31)]\n",
        "\n",
        "print(\"Valores x1: \",x0)\n",
        "print(\"Probabilidad por clase\",h(x0,theta11),h(x0,theta21),h(x0,theta31))\n",
        "\n",
        "if max(prob)==prob[0]:\n",
        "  pred=1\n",
        "elif max(prob)==prob[1]:\n",
        "  pred=2\n",
        "else:\n",
        "  pred=3\n",
        "\n",
        "print(\"Clase predicción: \",pred)\n",
        "print(\"Clase real: \",y0,\"\\n\")\n",
        "\n",
        "#Prueba Clase 3\n",
        "print(\"Predicción clase 3\")\n",
        "x0=x[150]  \n",
        "y0=y[150]\n",
        "prob= [h(x0,theta11),h(x0,theta21),h(x0,theta31)]\n",
        "\n",
        "print(\"Valores x1: \",x0)\n",
        "print(\"Probabilidad por clase\",h(x0,theta11),h(x0,theta21),h(x0,theta31))\n",
        "\n",
        "if max(prob)==prob[0]:\n",
        "  pred=1\n",
        "elif max(prob)==prob[1]:\n",
        "  pred=2\n",
        "else:\n",
        "  pred=3\n",
        "\n",
        "print(\"Clase predicción: \",pred)\n",
        "print(\"Clase real: \",y0,\"\\n\")"
      ],
      "metadata": {
        "id": "gm5yVPz5udYT",
        "outputId": "f94547ff-c7a9-4107-a270-71e8c1ded24e",
        "colab": {
          "base_uri": "https://localhost:8080/"
        }
      },
      "execution_count": 9,
      "outputs": [
        {
          "output_type": "stream",
          "name": "stdout",
          "text": [
            "Predicción clase 1\n",
            "Valores x1:  [1.73]\n",
            "Probabilidad por clase [0.38167163] [0.46545095] [0.15819752]\n",
            "Clase predicción:  2\n",
            "Clase real:  [1] \n",
            "\n",
            "Predicción clase 2\n",
            "Valores x1:  [1.88]\n",
            "Probabilidad por clase [0.36538772] [0.43909578] [0.18052413]\n",
            "Clase predicción:  2\n",
            "Clase real:  [2] \n",
            "\n",
            "Predicción clase 3\n",
            "Valores x1:  [3.12]\n",
            "Probabilidad por clase [0.24464427] [0.24517077] [0.45035837]\n",
            "Clase predicción:  3\n",
            "Clase real:  [3] \n",
            "\n"
          ]
        }
      ]
    },
    {
      "cell_type": "markdown",
      "source": [
        "## Calificando el algoritmo"
      ],
      "metadata": {
        "id": "ayZeVOMEAyFc"
      }
    },
    {
      "cell_type": "code",
      "source": [
        "# Probamos con el conjunto de datos de prueba\n",
        "prob= [[h(x_c1v,theta11)],[h(x_c1v,theta21)],[h(x_c1v,theta31)]]\n",
        "\n",
        "len(prob)\n",
        "np.size(prob)"
      ],
      "metadata": {
        "id": "HQxAGFUTDIE8",
        "outputId": "69c33a59-6d38-43a3-b974-13a7da828d84",
        "colab": {
          "base_uri": "https://localhost:8080/"
        }
      },
      "execution_count": 37,
      "outputs": [
        {
          "output_type": "execute_result",
          "data": {
            "text/plain": [
              "135"
            ]
          },
          "metadata": {},
          "execution_count": 37
        }
      ]
    },
    {
      "cell_type": "code",
      "source": [
        "from sklearn.metrics import r2_score, mean_squared_error\n",
        "# Probamos con el conjunto de datos de prueba\n",
        "\n",
        "y_pred=[]\n",
        "for xx  in zip(x):\n",
        "  y_p=0\n",
        "  probb= [h(xx,theta11),h(xx,theta21),h(xx,theta31)]\n",
        "  if max(probb)== probb[0]:\n",
        "    y_p=1\n",
        "  elif max(probb)== probb[1]:\n",
        "    y_p=2\n",
        "  else:\n",
        "    y_p=3\n",
        "  y_pred.append(y_p)\n",
        "\n",
        "\n",
        "# Calculamos el coeficiente de determinación\n",
        "CoD = r2_score(y, y_pred)\n",
        "CoD\n",
        "\n",
        "# Calculamos el MSE (Mean Squared Error)\n",
        "MSE = mean_squared_error(y, y_pred)\n",
        "MSE"
      ],
      "metadata": {
        "id": "kk1mFO0uAxAz",
        "outputId": "af5a6d71-f5c2-42a5-8c72-5db7274d0c6b",
        "colab": {
          "base_uri": "https://localhost:8080/"
        }
      },
      "execution_count": 50,
      "outputs": [
        {
          "output_type": "execute_result",
          "data": {
            "text/plain": [
              "0.5955056179775281"
            ]
          },
          "metadata": {},
          "execution_count": 50
        }
      ]
    },
    {
      "cell_type": "markdown",
      "source": [
        "Predice parcialmente con probabilidades muy cercanas por lo que se espera que pueda mejorar con una ecuación de orden 2"
      ],
      "metadata": {
        "id": "-GFP6UWSecUL"
      }
    },
    {
      "cell_type": "markdown",
      "source": [
        "# Implementación del algoritmo para la característica \"malic\" y \"flav\""
      ],
      "metadata": {
        "id": "7NPILwV3hqW6"
      }
    },
    {
      "cell_type": "markdown",
      "source": [
        "## Orden 2"
      ],
      "metadata": {
        "id": "7V7SqmJz2h4-"
      }
    },
    {
      "cell_type": "code",
      "source": [
        "#Definir variable x2 como la característica\n",
        "import numpy as np\n",
        "from sklearn.model_selection import train_test_split\n",
        "x2= (df[[\"flav\"]].to_numpy())\n",
        "\n",
        "xx= np.concatenate((x, x2), axis=1)\n",
        "\n",
        "#Dividir los datos entre entrenamiento y pruebas\n",
        "\n",
        "x_c1t, x_c1v, y_c1t, y_c1v = train_test_split(xx,c1,random_state=0)\n",
        "x1_c1t_o2=x_c1t[:,0] \n",
        "x2_c1t_o2=x_c1t[:,1]\n",
        "x1_c1v_o2=x_c1v[:,0]\n",
        "x2_c1v_o2=x_c1v[:,1]\n",
        "\n",
        "x_c2t, x_c2v, y_c2t, y_c2v = train_test_split(xx,c2,random_state=0)\n",
        "x1_c2t_o2=x_c2t[:,0]   \n",
        "x2_c2t_o2=x_c2t[:,1]\n",
        "x1_c2v_o2=x_c2v[:,0]      \n",
        "x2_c2v_o2=x_c2v[:,1]\n",
        "\n",
        "x_c3t, x_c3v, y_c3t, y_c3v = train_test_split(xx,c3,random_state=0)\n",
        "x1_c3t_o2=x_c3t[:,0]       \n",
        "x2_c3t_o2=x_c3t[:,1]\n",
        "x1_c3v_o2=x_c3v[:,0]     \n",
        "x2_c3v_o2=x_c3v[:,1]\n",
        "\n"
      ],
      "metadata": {
        "id": "EYkODNZa9XGl"
      },
      "execution_count": null,
      "outputs": []
    },
    {
      "cell_type": "code",
      "source": [
        "h2   = lambda x,x2,theta: 1/(1+e**(-(theta[0]+theta[1]*x+theta[2]*x2))) #Ecuación de hipótesis (orden 2)\n",
        "j2_i = lambda x,x2,y,theta: y*log(h2(x,x2,theta),e) + (1-y)*log(1-h2(x,x2,theta),e) #Función de costo\n",
        "\n",
        "#Obtener theta de cada clase\n",
        "print(\"Thetas clase 1\")\n",
        "theta12=orden2(x1_c1t_o2,x2_c1t_o2,y_c1t,[1,1,1],0.1,h2,j2_i) \n",
        "print(\"Thetas clase 2\")\n",
        "theta22=orden2(x1_c2t_o2,x2_c2t_o2,y_c2t,[1,1,1],0.1,h2,j2_i)\n",
        "print(\"Thetas clase 3\")\n",
        "theta32=orden2(x1_c3t_o2,x2_c3t_o2,y_c3t,[1,1,1],0.1,h2,j2_i)\n",
        "print(\"\\n\")\n",
        "\n",
        "#Validar cada theta obtenida\n",
        "print(\"Validación clase 1 [train test]\")\n",
        "validate2(x1_c1t_o2,x2_c1t_o2,y_c1t,x1_c1v_o2,x2_c1v_o2,y_c1v,theta12,j2_i)\n",
        "\n",
        "\n",
        "print(\"Validación clase 2 [train test]\")\n",
        "validate2(x1_c2t_o2,x2_c2t_o2,y_c2t,x1_c2v_o2,x2_c2v_o2,y_c2v,theta22,j2_i)\n",
        "\n",
        "\n",
        "print(\"Validación clase 3 [train test]\")\n",
        "validate2(x1_c3t_o2,x2_c3t_o2,y_c3t,x1_c3v_o2,x2_c3v_o2,y_c3v,theta32,j2_i)\n"
      ],
      "metadata": {
        "id": "muWlNIga2kJQ",
        "colab": {
          "base_uri": "https://localhost:8080/"
        },
        "outputId": "2f279494-eff4-45ff-cfc8-6bb72f39d6c2"
      },
      "execution_count": null,
      "outputs": [
        {
          "output_type": "stream",
          "name": "stdout",
          "text": [
            "Thetas clase 1\n",
            "[-3.4846464350608986, -0.5948839539895606, 1.8563766409062188]\n",
            "Thetas clase 2\n",
            "[1.4896991831442108, -0.7238939016692265, -0.1904943288428385]\n",
            "Thetas clase 3\n",
            "[0.9782899157577533, 1.3109334537336657, -3.5057827316527215]\n",
            "\n",
            "\n",
            "Validación clase 1 [train test]\n",
            "-3.7773037905392215\n",
            "-0.27791517020244383\n",
            "Validación clase 2 [train test]\n",
            "-0.45163975856960503\n",
            "-0.34362104806578675\n",
            "Validación clase 3 [train test]\n",
            "1.7251385226846816\n",
            "-0.04196641427463577\n"
          ]
        }
      ]
    },
    {
      "cell_type": "markdown",
      "source": [
        "### Visualización de la curva obtenida por cada clase"
      ],
      "metadata": {
        "id": "aZW1UiXke_hX"
      }
    },
    {
      "cell_type": "code",
      "source": [
        "import matplotlib.pyplot as pt\n",
        "\n",
        "pt.scatter(x2,c1)\n",
        "pt.scatter(x2,h2(x,x2,theta12))\n",
        "pt.title(\"Clase 1 - Orden 2\")"
      ],
      "metadata": {
        "colab": {
          "base_uri": "https://localhost:8080/",
          "height": 299
        },
        "id": "t2RFKHJsTy2P",
        "outputId": "e5dda029-5871-43a7-e869-c1a12c26f14b"
      },
      "execution_count": null,
      "outputs": [
        {
          "output_type": "execute_result",
          "data": {
            "text/plain": [
              "Text(0.5, 1.0, 'Clase 1 - Orden 2')"
            ]
          },
          "metadata": {},
          "execution_count": 351
        },
        {
          "output_type": "display_data",
          "data": {
            "text/plain": [
              "<Figure size 432x288 with 1 Axes>"
            ],
            "image/png": "[encoded data removed]"
          },
          "metadata": {
            "needs_background": "light"
          }
        }
      ]
    },
    {
      "cell_type": "code",
      "source": [
        "pt.scatter(x2,c2)\n",
        "pt.scatter(x2,h2(x,x2,theta22))\n",
        "pt.title(\"Clase 2 - Orden 2\")"
      ],
      "metadata": {
        "colab": {
          "base_uri": "https://localhost:8080/",
          "height": 299
        },
        "id": "uufFbqCQUWtE",
        "outputId": "93aafe35-0d97-4e95-9d28-d38c3b352827"
      },
      "execution_count": null,
      "outputs": [
        {
          "output_type": "execute_result",
          "data": {
            "text/plain": [
              "Text(0.5, 1.0, 'Clase 2 - Orden 2')"
            ]
          },
          "metadata": {},
          "execution_count": 350
        },
        {
          "output_type": "display_data",
          "data": {
            "text/plain": [
              "<Figure size 432x288 with 1 Axes>"
            ],
            "image/png": "[encoded data removed]"
          },
          "metadata": {
            "needs_background": "light"
          }
        }
      ]
    },
    {
      "cell_type": "code",
      "source": [
        "pt.scatter(x2,c3)\n",
        "pt.scatter(x2,h2(x,x2,theta32))\n",
        "\n",
        "pt.title(\"Clase 3 - Orden 2\")"
      ],
      "metadata": {
        "colab": {
          "base_uri": "https://localhost:8080/",
          "height": 299
        },
        "id": "UOMPN5vdUh_j",
        "outputId": "9fadcea0-b015-46d4-9c19-abfd5973cfd8"
      },
      "execution_count": null,
      "outputs": [
        {
          "output_type": "execute_result",
          "data": {
            "text/plain": [
              "Text(0.5, 1.0, 'Clase 3 - Orden 2')"
            ]
          },
          "metadata": {},
          "execution_count": 349
        },
        {
          "output_type": "display_data",
          "data": {
            "text/plain": [
              "<Figure size 432x288 with 1 Axes>"
            ],
            "image/png": "[encoded data removed]"
          },
          "metadata": {
            "needs_background": "light"
          }
        }
      ]
    },
    {
      "cell_type": "markdown",
      "source": [
        "### Pruebas de predicción"
      ],
      "metadata": {
        "id": "WmX69zEZfHhs"
      }
    },
    {
      "cell_type": "code",
      "source": [
        "#Prueba Clase 1\n",
        "print(\"Predicción clase 1\")\n",
        "x0=x[50]  \n",
        "x02=x2[50]\n",
        "y0=y[50]\n",
        "prob= [h2(x0,x02,theta12),h2(x0,x02,theta22),h2(x0,x02,theta32)]\n",
        "\n",
        "print(\"Valores x1: \",x0,\",x2: \",x02)\n",
        "print(\"Probabilidad por clase\",h2(x0,x02,theta12),h2(x0,x02,theta22),h2(x0,x02,theta32))\n",
        "\n",
        "if max(prob)==prob[0]:\n",
        "  pred=1\n",
        "elif max(prob)==prob[1]:\n",
        "  pred=2\n",
        "else:\n",
        "  pred=3\n",
        "\n",
        "print(\"Clase predicción: \",pred)\n",
        "print(\"Clase real: \",y0,\"\\n\")\n",
        "\n",
        "#Prueba Clase 2\n",
        "print(\"Predicción clase 2\")\n",
        "x0=x[75]  \n",
        "x02=x2[75]\n",
        "y0=y[75]\n",
        "prob= [h2(x0,x02,theta12),h2(x0,x02,theta22),h2(x0,x02,theta32)]\n",
        "\n",
        "print(\"Valores x1: \",x0,\",x2: \",x02)\n",
        "print(\"Probabilidad por clase\",h2(x0,x02,theta12),h2(x0,x02,theta22),h2(x0,x02,theta32))\n",
        "\n",
        "if max(prob)==prob[0]:\n",
        "  pred=1\n",
        "elif max(prob)==prob[1]:\n",
        "  pred=2\n",
        "else:\n",
        "  pred=3\n",
        "\n",
        "print(\"Clase predicción: \",pred)\n",
        "print(\"Clase real: \",y0,\"\\n\")\n",
        "\n",
        "#Prueba Clase 3\n",
        "print(\"Predicción clase 3\")\n",
        "x0=x[150]  \n",
        "x02=x2[150]\n",
        "y0=y[150]\n",
        "prob= [h2(x0,x02,theta12),h2(x0,x02,theta22),h2(x0,x02,theta32)]\n",
        "\n",
        "print(\"Valores x1: \",x0,\",x2: \",x02)\n",
        "print(\"Probabilidad por clase\",h2(x0,x02,theta12),h2(x0,x02,theta22),h2(x0,x02,theta32))\n",
        "\n",
        "if max(prob)==prob[0]:\n",
        "  pred=1\n",
        "elif max(prob)==prob[1]:\n",
        "  pred=2\n",
        "else:\n",
        "  pred=3\n",
        "\n",
        "print(\"Clase predicción: \",pred)\n",
        "print(\"Clase real: \",y0,\"\\n\")"
      ],
      "metadata": {
        "colab": {
          "base_uri": "https://localhost:8080/"
        },
        "id": "8uV6-ccsJ0Xb",
        "outputId": "4632890f-8940-442f-8a76-34966817aa2a"
      },
      "execution_count": null,
      "outputs": [
        {
          "output_type": "stream",
          "name": "stdout",
          "text": [
            "Predicción clase 1\n",
            "Valores x1:  [1.73] ,x2:  [3.27]\n",
            "Probabilidad por clase [0.8258586] [0.40478811] [0.00026976]\n",
            "Clase predicción:  1\n",
            "Clase real:  [1] \n",
            "\n",
            "Predicción clase 2\n",
            "Valores x1:  [1.88] ,x2:  [1.57]\n",
            "Probabilidad por clase [0.15597098] [0.45752823] [0.11292215]\n",
            "Clase predicción:  2\n",
            "Clase real:  [2] \n",
            "\n",
            "Predicción clase 3\n",
            "Valores x1:  [3.12] ,x2:  [1.57]\n",
            "Probabilidad por clase [0.08119852] [0.25579772] [0.39277163]\n",
            "Clase predicción:  3\n",
            "Clase real:  [3] \n",
            "\n"
          ]
        }
      ]
    },
    {
      "cell_type": "markdown",
      "source": [
        "Se logró predecir correctamente los casos dados con diferencias notorias en las probabilidades individuales por clase."
      ],
      "metadata": {
        "id": "CNhWH0H6fMbH"
      }
    }
  ]
}