{
  "nbformat": 4,
  "nbformat_minor": 0,
  "metadata": {
    "colab": {
      "name": "M2.ipynb",
      "provenance": [],
      "authorship_tag": "ABX9TyP5Lds7v04nlX/2W/kesQYo",
      "include_colab_link": true
    },
    "kernelspec": {
      "name": "python3",
      "display_name": "Python 3"
    },
    "language_info": {
      "name": "python"
    }
  },
  "cells": [
    {
      "cell_type": "markdown",
      "metadata": {
        "id": "view-in-github",
        "colab_type": "text"
      },
      "source": [
        "<a href=\"https://colab.research.google.com/github/Suemy-AZ/Modulo_2/blob/main/M2.ipynb\" target=\"_parent\"><img src=\"https://colab.research.google.com/assets/colab-badge.svg\" alt=\"Open In Colab\"/></a>"
      ]
    },
    {
      "cell_type": "code",
      "execution_count": 3,
      "metadata": {
        "colab": {
          "base_uri": "https://localhost:8080/",
          "height": 242
        },
        "id": "0ENW8vE1k7S8",
        "outputId": "ab72c4c9-50c5-4d7d-b5d0-e911aee19662"
      },
      "outputs": [
        {
          "output_type": "stream",
          "name": "stdout",
          "text": [
            "Mounted at /content/gdrive\n",
            "/content/gdrive/MyDrive/7mo semestre/AD2022\n"
          ]
        },
        {
          "output_type": "execute_result",
          "data": {
            "text/plain": [
              "   class  alcohol  malic   ash  alcalinity   Mg  tphenols  flav  nonflav  \\\n",
              "0      1    14.23   1.71  2.43        15.6  127      2.80  3.06     0.28   \n",
              "1      1    13.20   1.78  2.14        11.2  100      2.65  2.76     0.26   \n",
              "2      1    13.16   2.36  2.67        18.6  101      2.80  3.24     0.30   \n",
              "3      1    14.37   1.95  2.50        16.8  113      3.85  3.49     0.24   \n",
              "4      1    13.24   2.59  2.87        21.0  118      2.80  2.69     0.39   \n",
              "\n",
              "   proantho  color   hue  diluted  proline  \n",
              "0      2.29   5.64  1.04     3.92     1065  \n",
              "1      1.28   4.38  1.05     3.40     1050  \n",
              "2      2.81   5.68  1.03     3.17     1185  \n",
              "3      2.18   7.80  0.86     3.45     1480  \n",
              "4      1.82   4.32  1.04     2.93      735  "
            ],
            "text/html": [
              "\n",
              "  <div id=\"df-3f449172-2236-4f5d-bde7-707f81e19576\">\n",
              "    <div class=\"colab-df-container\">\n",
              "      <div>\n",
              "<style scoped>\n",
              "    .dataframe tbody tr th:only-of-type {\n",
              "        vertical-align: middle;\n",
              "    }\n",
              "\n",
              "    .dataframe tbody tr th {\n",
              "        vertical-align: top;\n",
              "    }\n",
              "\n",
              "    .dataframe thead th {\n",
              "        text-align: right;\n",
              "    }\n",
              "</style>\n",
              "<table border=\"1\" class=\"dataframe\">\n",
              "  <thead>\n",
              "    <tr style=\"text-align: right;\">\n",
              "      <th></th>\n",
              "      <th>class</th>\n",
              "      <th>alcohol</th>\n",
              "      <th>malic</th>\n",
              "      <th>ash</th>\n",
              "      <th>alcalinity</th>\n",
              "      <th>Mg</th>\n",
              "      <th>tphenols</th>\n",
              "      <th>flav</th>\n",
              "      <th>nonflav</th>\n",
              "      <th>proantho</th>\n",
              "      <th>color</th>\n",
              "      <th>hue</th>\n",
              "      <th>diluted</th>\n",
              "      <th>proline</th>\n",
              "    </tr>\n",
              "  </thead>\n",
              "  <tbody>\n",
              "    <tr>\n",
              "      <th>0</th>\n",
              "      <td>1</td>\n",
              "      <td>14.23</td>\n",
              "      <td>1.71</td>\n",
              "      <td>2.43</td>\n",
              "      <td>15.6</td>\n",
              "      <td>127</td>\n",
              "      <td>2.80</td>\n",
              "      <td>3.06</td>\n",
              "      <td>0.28</td>\n",
              "      <td>2.29</td>\n",
              "      <td>5.64</td>\n",
              "      <td>1.04</td>\n",
              "      <td>3.92</td>\n",
              "      <td>1065</td>\n",
              "    </tr>\n",
              "    <tr>\n",
              "      <th>1</th>\n",
              "      <td>1</td>\n",
              "      <td>13.20</td>\n",
              "      <td>1.78</td>\n",
              "      <td>2.14</td>\n",
              "      <td>11.2</td>\n",
              "      <td>100</td>\n",
              "      <td>2.65</td>\n",
              "      <td>2.76</td>\n",
              "      <td>0.26</td>\n",
              "      <td>1.28</td>\n",
              "      <td>4.38</td>\n",
              "      <td>1.05</td>\n",
              "      <td>3.40</td>\n",
              "      <td>1050</td>\n",
              "    </tr>\n",
              "    <tr>\n",
              "      <th>2</th>\n",
              "      <td>1</td>\n",
              "      <td>13.16</td>\n",
              "      <td>2.36</td>\n",
              "      <td>2.67</td>\n",
              "      <td>18.6</td>\n",
              "      <td>101</td>\n",
              "      <td>2.80</td>\n",
              "      <td>3.24</td>\n",
              "      <td>0.30</td>\n",
              "      <td>2.81</td>\n",
              "      <td>5.68</td>\n",
              "      <td>1.03</td>\n",
              "      <td>3.17</td>\n",
              "      <td>1185</td>\n",
              "    </tr>\n",
              "    <tr>\n",
              "      <th>3</th>\n",
              "      <td>1</td>\n",
              "      <td>14.37</td>\n",
              "      <td>1.95</td>\n",
              "      <td>2.50</td>\n",
              "      <td>16.8</td>\n",
              "      <td>113</td>\n",
              "      <td>3.85</td>\n",
              "      <td>3.49</td>\n",
              "      <td>0.24</td>\n",
              "      <td>2.18</td>\n",
              "      <td>7.80</td>\n",
              "      <td>0.86</td>\n",
              "      <td>3.45</td>\n",
              "      <td>1480</td>\n",
              "    </tr>\n",
              "    <tr>\n",
              "      <th>4</th>\n",
              "      <td>1</td>\n",
              "      <td>13.24</td>\n",
              "      <td>2.59</td>\n",
              "      <td>2.87</td>\n",
              "      <td>21.0</td>\n",
              "      <td>118</td>\n",
              "      <td>2.80</td>\n",
              "      <td>2.69</td>\n",
              "      <td>0.39</td>\n",
              "      <td>1.82</td>\n",
              "      <td>4.32</td>\n",
              "      <td>1.04</td>\n",
              "      <td>2.93</td>\n",
              "      <td>735</td>\n",
              "    </tr>\n",
              "  </tbody>\n",
              "</table>\n",
              "</div>\n",
              "      <button class=\"colab-df-convert\" onclick=\"convertToInteractive('df-3f449172-2236-4f5d-bde7-707f81e19576')\"\n",
              "              title=\"Convert this dataframe to an interactive table.\"\n",
              "              style=\"display:none;\">\n",
              "        \n",
              "  <svg xmlns=\"http://www.w3.org/2000/svg\" height=\"24px\"viewBox=\"0 0 24 24\"\n",
              "       width=\"24px\">\n",
              "    <path d=\"M0 0h24v24H0V0z\" fill=\"none\"/>\n",
              "    <path d=\"M18.56 5.44l.94 2.06.94-2.06 2.06-.94-2.06-.94-.94-2.06-.94 2.06-2.06.94zm-11 1L8.5 8.5l.94-2.06 2.06-.94-2.06-.94L8.5 2.5l-.94 2.06-2.06.94zm10 10l.94 2.06.94-2.06 2.06-.94-2.06-.94-.94-2.06-.94 2.06-2.06.94z\"/><path d=\"M17.41 7.96l-1.37-1.37c-.4-.4-.92-.59-1.43-.59-.52 0-1.04.2-1.43.59L10.3 9.45l-7.72 7.72c-.78.78-.78 2.05 0 2.83L4 21.41c.39.39.9.59 1.41.59.51 0 1.02-.2 1.41-.59l7.78-7.78 2.81-2.81c.8-.78.8-2.07 0-2.86zM5.41 20L4 18.59l7.72-7.72 1.47 1.35L5.41 20z\"/>\n",
              "  </svg>\n",
              "      </button>\n",
              "      \n",
              "  <style>\n",
              "    .colab-df-container {\n",
              "      display:flex;\n",
              "      flex-wrap:wrap;\n",
              "      gap: 12px;\n",
              "    }\n",
              "\n",
              "    .colab-df-convert {\n",
              "      background-color: #E8F0FE;\n",
              "      border: none;\n",
              "      border-radius: 50%;\n",
              "      cursor: pointer;\n",
              "      display: none;\n",
              "      fill: #1967D2;\n",
              "      height: 32px;\n",
              "      padding: 0 0 0 0;\n",
              "      width: 32px;\n",
              "    }\n",
              "\n",
              "    .colab-df-convert:hover {\n",
              "      background-color: #E2EBFA;\n",
              "      box-shadow: 0px 1px 2px rgba(60, 64, 67, 0.3), 0px 1px 3px 1px rgba(60, 64, 67, 0.15);\n",
              "      fill: #174EA6;\n",
              "    }\n",
              "\n",
              "    [theme=dark] .colab-df-convert {\n",
              "      background-color: #3B4455;\n",
              "      fill: #D2E3FC;\n",
              "    }\n",
              "\n",
              "    [theme=dark] .colab-df-convert:hover {\n",
              "      background-color: #434B5C;\n",
              "      box-shadow: 0px 1px 3px 1px rgba(0, 0, 0, 0.15);\n",
              "      filter: drop-shadow(0px 1px 2px rgba(0, 0, 0, 0.3));\n",
              "      fill: #FFFFFF;\n",
              "    }\n",
              "  </style>\n",
              "\n",
              "      <script>\n",
              "        const buttonEl =\n",
              "          document.querySelector('#df-3f449172-2236-4f5d-bde7-707f81e19576 button.colab-df-convert');\n",
              "        buttonEl.style.display =\n",
              "          google.colab.kernel.accessAllowed ? 'block' : 'none';\n",
              "\n",
              "        async function convertToInteractive(key) {\n",
              "          const element = document.querySelector('#df-3f449172-2236-4f5d-bde7-707f81e19576');\n",
              "          const dataTable =\n",
              "            await google.colab.kernel.invokeFunction('convertToInteractive',\n",
              "                                                     [key], {});\n",
              "          if (!dataTable) return;\n",
              "\n",
              "          const docLinkHtml = 'Like what you see? Visit the ' +\n",
              "            '<a target=\"_blank\" href=https://colab.research.google.com/notebooks/data_table.ipynb>data table notebook</a>'\n",
              "            + ' to learn more about interactive tables.';\n",
              "          element.innerHTML = '';\n",
              "          dataTable['output_type'] = 'display_data';\n",
              "          await google.colab.output.renderOutput(dataTable, element);\n",
              "          const docLink = document.createElement('div');\n",
              "          docLink.innerHTML = docLinkHtml;\n",
              "          element.appendChild(docLink);\n",
              "        }\n",
              "      </script>\n",
              "    </div>\n",
              "  </div>\n",
              "  "
            ]
          },
          "metadata": {},
          "execution_count": 3
        }
      ],
      "source": [
        "from google.colab import drive  # importa libreria\n",
        "drive.mount(\"/content/gdrive\");  # utiliza comando\n",
        "#!pwd\n",
        "#put your own path in google drive\n",
        "%cd \"/content/gdrive/MyDrive/7mo semestre/AD2022\"\n",
        "#!ls\n",
        "import pandas as pd # importar libreria\n",
        "columns = [\"class\",\"alcohol\",\"malic\",\"ash\", \"alcalinity\",\"Mg\",\"tphenols\",\"flav\",\"nonflav\",\"proantho\",\"color\",\"hue\",\"diluted\",\"proline\"]\n",
        "# Open the file and create the data frame\n",
        "df = pd.read_csv('wine.data',names = columns)\n",
        "df.head()"
      ]
    },
    {
      "cell_type": "markdown",
      "source": [
        "# Dividir en clasificador por clase\n",
        "\n",
        "```\n",
        "# Esto tiene formato de código\n",
        "```\n",
        "\n"
      ],
      "metadata": {
        "id": "QfzkSdujcE9w"
      }
    },
    {
      "cell_type": "code",
      "source": [
        "import numpy as np\n",
        "x= df[[\"alcohol\"]].to_numpy()\n",
        "y= df[[\"class\"]].to_numpy()\n",
        "\n",
        "from sklearn.model_selection import train_test_split\n",
        "\n",
        "\n",
        "c1=np.where(df[\"class\"] == 1, 1,0 )\n",
        "c2=np.where(df[\"class\"] == 2, 1,0 )\n",
        "c3=np.where(df[\"class\"] == 3, 1,0 )\n",
        "\n",
        "x_c1t, x_c1v, y_c1t, y_c1v = train_test_split(x,c1,random_state=0)\n",
        "x_c2t, x_c2v, y_c2t, y_c2v = train_test_split(x,c2,random_state=0)\n",
        "x_c3t, x_c3v, y_c3t, y_c3v = train_test_split(x,c3,random_state=0)\n"
      ],
      "metadata": {
        "id": "lLENDDp2S4gE"
      },
      "execution_count": 35,
      "outputs": []
    },
    {
      "cell_type": "markdown",
      "source": [
        "## Definiendo las funciones"
      ],
      "metadata": {
        "id": "QEzdV3km8Q3M"
      }
    },
    {
      "cell_type": "code",
      "source": [
        "def orden1 (x_train,y_train,theta,alpha,h,j_i):\n",
        "  for idx in range (1000):\n",
        "    acumDelta =[]\n",
        "    acumDeltaX=[]\n",
        "    for x_i, y_i in zip (x_train,y_train):\n",
        "      acumDelta.append(h(x_i,theta)-y_i)\n",
        "      acumDeltaX.append ((h(x_i,theta)-y_i)*x_i)\n",
        "\n",
        "    sJt0=sum(acumDelta)\n",
        "    sJt1=sum(acumDeltaX)\n",
        "   #Gradiente descendiente para optimización de theta\n",
        "    theta[0]= theta[0]-alpha/n*sJt0 \n",
        "    theta[1]=theta[1]-alpha/n*sJt1\n",
        "  print(theta)\n",
        "  return theta\n",
        "\n",
        "def orden2 (x_train,y_train,x2_train,theta,alpha,h,j_i):\n",
        "  for idx in range (1000):\n",
        "    acumDelta =[]\n",
        "    acumDeltaX=[]\n",
        "    acumDeltaX2=[]\n",
        "    for x_i, y_i,x2_i in zip (x_train,y_train,x2_train):\n",
        "      acumDelta.append(h(x_i,theta)-y_i)\n",
        "      acumDeltaX.append ((h(x_i,theta)-y_i)*x_i)\n",
        "      acumDeltaX.append ((h(x2_i,theta)-y_i)*x2_i)\n",
        "\n",
        "    sJt0=sum(acumDelta)\n",
        "    sJt1=sum(acumDeltaX)\n",
        "    sJt2=sum(acumDeltaX2)\n",
        "   #Gradiente descendiente para optimización de theta\n",
        "    theta[0]= theta[0]-alpha/n*sJt0\n",
        "    theta[1]=theta[1]-alpha/n*sJt1\n",
        "    theta[2]=theta[2]-alpha/n*sJt2\n",
        "  return theta\n",
        "\n",
        "def validate(x_c1t,y_c1t,x_c1v,y_c1v,theta):\n",
        "  n_train = len(y_c1v)\n",
        "  n_val = len(y_c1t)\n",
        "\n",
        "  # Validación\n",
        "  acumDelta = []\n",
        "  for x_i, y_i in zip(x_c1t,y_c1t):\n",
        "    acumDelta.append(j_i(x_i,y_i,theta))  \n",
        "\n",
        "  sDelta = sum(acumDelta)  \n",
        "  J_validate = 1/(2*n_val)*sDelta\n",
        "\n",
        "\n",
        "  # Training\n",
        "  acumDelta = []\n",
        "  for x_i, y_i in zip(x_c1v,y_c1v):\n",
        "    acumDelta.append(j_i(x_i,y_i,theta))  \n",
        "\n",
        "  sDelta = sum(acumDelta)  \n",
        "  J_train = 1/(2*n_train)*sDelta\n",
        "\n",
        "  print(J_validate)\n",
        "  print(J_train)\n",
        "  return J_validate,J_train"
      ],
      "metadata": {
        "id": "PaP_rj-OwFn_"
      },
      "execution_count": 10,
      "outputs": []
    },
    {
      "cell_type": "markdown",
      "source": [
        "# Orden 1"
      ],
      "metadata": {
        "id": "xPcaGlgM1Oi4"
      }
    },
    {
      "cell_type": "code",
      "source": [
        "from math import e\n",
        "h= lambda x,theta : theta[0]+theta[1]*x #Definimos la ecuación lineal de orden 1\n",
        "#h=lambda x, theta : 1/(1+e**(-(theta[0]+theta[1]*x)))\n",
        "j_i = lambda x,y,theta : (y-h(x,theta))**2 #Función de costo\n",
        "\n",
        "theta11=orden1(x_c1t,y_c1t,[1,1],0.0001,h,j_i)\n",
        "theta21=orden1(x_c2t,y_c2t,[1,1],0.0001,h,j_i)\n",
        "theta31=orden1(x_c3t,y_c3t,[1,1],0.0001,h,j_i)\n",
        "\n",
        "validate(x_c1t,y_c1t,x_c1v,y_c1v,theta11)\n",
        "validate(x_c2t,y_c2t,x_c2v,y_c2v,theta21)\n",
        "validate(x_c3t,y_c3t,x_c3v,y_c3v,theta31)"
      ],
      "metadata": {
        "id": "Ryr_cijYwjk6",
        "outputId": "f3d6d262-727a-4458-8790-e298549c538d",
        "colab": {
          "base_uri": "https://localhost:8080/"
        }
      },
      "execution_count": 34,
      "outputs": [
        {
          "output_type": "stream",
          "name": "stdout",
          "text": [
            "[array([0.93153224]), array([-0.03708994])]\n",
            "[array([0.93451719]), array([-0.03642027])]\n",
            "[array([0.93441712]), array([-0.04142575])]\n",
            "[0.12649554]\n",
            "[0.13138884]\n",
            "[0.11136321]\n",
            "[0.11897807]\n",
            "[0.09639227]\n",
            "[0.07522267]\n"
          ]
        },
        {
          "output_type": "execute_result",
          "data": {
            "text/plain": [
              "(array([0.09639227]), array([0.07522267]))"
            ]
          },
          "metadata": {},
          "execution_count": 34
        }
      ]
    },
    {
      "cell_type": "code",
      "source": [
        "import matplotlib.pyplot as pt\n",
        "\n",
        "pt.scatter(x_c1t,y_c1t)\n",
        "pt.scatter(x_c1v,h(x_c1v,theta11))\n"
      ],
      "metadata": {
        "id": "jGEEKL2AuWL9",
        "outputId": "2947ca6a-c282-4763-87c9-4d25fc82ee53",
        "colab": {
          "base_uri": "https://localhost:8080/",
          "height": 283
        }
      },
      "execution_count": 19,
      "outputs": [
        {
          "output_type": "execute_result",
          "data": {
            "text/plain": [
              "<matplotlib.collections.PathCollection at 0x7f3a0ecdaa90>"
            ]
          },
          "metadata": {},
          "execution_count": 19
        },
        {
          "output_type": "display_data",
          "data": {
            "text/plain": [
              "<Figure size 432x288 with 1 Axes>"
            ],
            "image/png": "[encoded data removed]"
          },
          "metadata": {
            "needs_background": "light"
          }
        }
      ]
    },
    {
      "cell_type": "code",
      "source": [
        "pt.scatter(x_c2t,y_c2t)\n",
        "pt.scatter(x_c2v,h(x_c2v,theta21))"
      ],
      "metadata": {
        "id": "Chdf-oE3zn9-",
        "outputId": "9f40ec65-10d0-48e8-f9a2-9a2e138fd330",
        "colab": {
          "base_uri": "https://localhost:8080/",
          "height": 283
        }
      },
      "execution_count": 20,
      "outputs": [
        {
          "output_type": "execute_result",
          "data": {
            "text/plain": [
              "<matplotlib.collections.PathCollection at 0x7f3a0ec50a10>"
            ]
          },
          "metadata": {},
          "execution_count": 20
        },
        {
          "output_type": "display_data",
          "data": {
            "text/plain": [
              "<Figure size 432x288 with 1 Axes>"
            ],
            "image/png": "[encoded data removed]"
          },
          "metadata": {
            "needs_background": "light"
          }
        }
      ]
    },
    {
      "cell_type": "code",
      "source": [
        "pt.scatter(x_c3t,y_c3t)\n",
        "pt.scatter(x_c3v,h(x_c3v,theta31))"
      ],
      "metadata": {
        "id": "ijNArVsPzp9b",
        "outputId": "f8acd6a3-475c-476b-f12f-53b91f57499d",
        "colab": {
          "base_uri": "https://localhost:8080/",
          "height": 283
        }
      },
      "execution_count": 21,
      "outputs": [
        {
          "output_type": "execute_result",
          "data": {
            "text/plain": [
              "<matplotlib.collections.PathCollection at 0x7f3a0ebc7a90>"
            ]
          },
          "metadata": {},
          "execution_count": 21
        },
        {
          "output_type": "display_data",
          "data": {
            "text/plain": [
              "<Figure size 432x288 with 1 Axes>"
            ],
            "image/png": "[encoded data removed]"
          },
          "metadata": {
            "needs_background": "light"
          }
        }
      ]
    },
    {
      "cell_type": "code",
      "source": [
        "x0=x[150]  \n",
        "y0=y[150]\n",
        "\n",
        "print(x0)\n",
        "\n",
        "print(h(x0,theta11))\n",
        "print(h(x0,theta21))\n",
        "print(h(x0,theta31))\n",
        "\n",
        "print(y0)"
      ],
      "metadata": {
        "id": "gm5yVPz5udYT",
        "outputId": "15e0b8d9-c6b9-42fe-9d51-8d1b49882720",
        "colab": {
          "base_uri": "https://localhost:8080/"
        }
      },
      "execution_count": 22,
      "outputs": [
        {
          "output_type": "stream",
          "name": "stdout",
          "text": [
            "[13.5]\n",
            "[0.32143385]\n",
            "[0.33570151]\n",
            "[0.28209679]\n",
            "[3]\n"
          ]
        }
      ]
    },
    {
      "cell_type": "markdown",
      "source": [
        "# Orden 2"
      ],
      "metadata": {
        "id": "7V7SqmJz2h4-"
      }
    },
    {
      "cell_type": "code",
      "source": [
        "#Definir variable x2 como la característica\n",
        "import numpy as np\n",
        "from sklearn.model_selection import train_test_split\n",
        "x2= df[[\"diluted\"]].to_numpy()\n",
        "\n",
        "\n",
        "x_c1t, x_c1v, y_c1t, y_c1v = train_test_split(x,c1,random_state=0)\n",
        "x_c2t, x_c2v, y_c2t, y_c2v = train_test_split(x,c2,random_state=0)\n",
        "x_c3t, x_c3v, y_c3t, y_c3v = train_test_split(x,c3,random_state=0)\n",
        "\n",
        "from math import e\n",
        "h2= lambda x,x2,theta : theta[0]+theta[1]*x+ theta[2]*x2 #Definimos la ecuación de orden 2\n",
        "#h=lambda x, theta : 1/(1+e**(-(theta[0]+theta[1]*x)))\n",
        "j2_i = lambda x,x2,y,theta : (y-h2(x,x2,theta))**2 #Función de costo\n",
        "\n",
        "theta12=orden2(x_c1t,y_c1t,[1,1,1],0.0001,h2,j2_i)\n",
        "theta22=orden2(x_c2t,y_c2t,[1,1,1],0.0001,h2,j2_i)\n",
        "theta32=orden2(x_c3t,y_c3t,[1,1,1],0.0001,h2,j2_i)\n",
        "\n",
        "validate(x_c1t,y_c1t,x_c1v,y_c1v,)\n",
        "validate(x_c2t,y_c2t,x_c2v,y_c2v,)\n",
        "validate(x_c3t,y_c3t,x_c3v,y_c3v,)"
      ],
      "metadata": {
        "id": "muWlNIga2kJQ"
      },
      "execution_count": null,
      "outputs": []
    },
    {
      "cell_type": "code",
      "source": [
        "#Definir variable x2 como la característica\n",
        "import numpy as np\n",
        "from sklearn.model_selection import train_test_split\n",
        "x2= df[[\"diluted\"]].to_numpy()\n",
        "\n",
        "x= np.concatenate((x, x2), axis=1)"
      ],
      "metadata": {
        "id": "3dY5jjTu53hY"
      },
      "execution_count": 37,
      "outputs": []
    },
    {
      "cell_type": "markdown",
      "source": [
        "# Clasificador con todo"
      ],
      "metadata": {
        "id": "qzVprPs5cKpL"
      }
    },
    {
      "cell_type": "code",
      "source": [
        "\n",
        "h1= lambda x,theta : theta[0]+theta[1]*x #Definimos la ecuación\n",
        "h1= lambda x,theta : theta[0]+theta[1]*x #Definimos la ecuación\n",
        "j_i = lambda x,y,theta : (y-h(x,theta))**2 #Función de costo\n",
        "\n",
        "theta = [1,1] #theta arbitrario inicial\n",
        "alpha=0.00001 # alpha arbitraria inicial\n",
        "\n",
        "for idx in range (1000):\n",
        "  acumDelta =[]\n",
        "  acumDeltaX=[]\n",
        "  for x_i, y_i in zip (x_train,y_train):\n",
        "    acumDelta.append(h(x_i,theta)-y_i)\n",
        "    acumDeltaX.append ((h(x_i,theta)-y_i)*x_i)\n",
        "\n",
        "  sJt0=sum(acumDelta)\n",
        "  sJt1=sum(acumDeltaX)\n",
        "  #Gradiente descendiente para optimización de theta\n",
        "  theta[0]= theta[0]-alpha/n*sJt0 \n",
        "  theta[1]=theta[1]-alpha/n*sJt1\n",
        "\n",
        "print(theta)"
      ],
      "metadata": {
        "id": "JwYF7F8nN7ME",
        "outputId": "1f2c5faf-ca0e-49ad-b1be-9bea9534622a",
        "colab": {
          "base_uri": "https://localhost:8080/"
        }
      },
      "execution_count": null,
      "outputs": [
        {
          "output_type": "stream",
          "name": "stdout",
          "text": [
            "[array([0.94927822]), array([0.33626573])]\n"
          ]
        }
      ]
    },
    {
      "cell_type": "code",
      "source": [
        "n_train = len(y_train)\n",
        "n_val = len(y_test)\n",
        "\n",
        "# Validación\n",
        "acumDelta = []\n",
        "for x_i, y_i in zip(x_test,y_test):\n",
        "  acumDelta.append(j_i(x_i,y_i,theta))  \n",
        "\n",
        "sDelta = sum(acumDelta)  \n",
        "J_validate = 1/(2*n_val)*sDelta\n",
        "\n",
        "\n",
        "# Training\n",
        "acumDelta = []\n",
        "for x_i, y_i in zip(x_train,y_train):\n",
        "  acumDelta.append(j_i(x_i,y_i,theta))  \n",
        "\n",
        "sDelta = sum(acumDelta)  \n",
        "J_train = 1/(2*n_train)*sDelta\n",
        "\n",
        "print(J_validate)\n",
        "print(J_train)\n",
        "print(theta)"
      ],
      "metadata": {
        "id": "-9XKC7I6RWEM",
        "outputId": "8dcd9c71-6a7a-4f5c-f714-3d4a3c433bb7",
        "colab": {
          "base_uri": "https://localhost:8080/"
        }
      },
      "execution_count": null,
      "outputs": [
        {
          "output_type": "stream",
          "name": "stdout",
          "text": [
            "[6.48740961]\n",
            "[6.00400981]\n",
            "[array([0.94927822]), array([0.33626573])]\n"
          ]
        }
      ]
    },
    {
      "cell_type": "code",
      "source": [
        "import matplotlib.pyplot as pt\n",
        "\n",
        "pt.scatter(x_test,h(x_test,theta))"
      ],
      "metadata": {
        "id": "-2BXBuNhV9Rf",
        "outputId": "d1161b37-cc8b-4c36-baa8-d74754a03c51",
        "colab": {
          "base_uri": "https://localhost:8080/",
          "height": 283
        }
      },
      "execution_count": null,
      "outputs": [
        {
          "output_type": "execute_result",
          "data": {
            "text/plain": [
              "<matplotlib.collections.PathCollection at 0x7fb9704a05d0>"
            ]
          },
          "metadata": {},
          "execution_count": 82
        },
        {
          "output_type": "display_data",
          "data": {
            "text/plain": [
              "<Figure size 432x288 with 1 Axes>"
            ],
            "image/png": "[encoded data removed]"
          },
          "metadata": {
            "needs_background": "light"
          }
        }
      ]
    },
    {
      "cell_type": "code",
      "source": [
        "from sklearn.metrics import confusion_matrix\n",
        "\n",
        "y_pred_train=h(x_train,theta)\n",
        "y_pred_test=h(x_test,theta)\n",
        "\n",
        "#print(confusion_matrix(y_train, y_pred_train))\n",
        "\n",
        "#print(confusion_matrix(y_test, y_pred_test))\n",
        "y_pred_test"
      ],
      "metadata": {
        "id": "rdxy0bHNWbVT",
        "outputId": "563eab2f-0bb8-4d00-b6b8-42bd25fe426d",
        "colab": {
          "base_uri": "https://localhost:8080/"
        }
      },
      "execution_count": null,
      "outputs": [
        {
          "output_type": "execute_result",
          "data": {
            "text/plain": [
              "array([[5.56956937],\n",
              "       [5.25011692],\n",
              "       [5.10888532],\n",
              "       [5.50904154],\n",
              "       [5.33754601],\n",
              "       [4.83651007],\n",
              "       [5.6771744 ],\n",
              "       [5.10552266],\n",
              "       [5.06853343],\n",
              "       [5.01136825],\n",
              "       [5.44178839],\n",
              "       [5.61664657],\n",
              "       [5.7242516 ],\n",
              "       [5.10888532],\n",
              "       [5.51576685],\n",
              "       [4.984467  ],\n",
              "       [5.57629468],\n",
              "       [5.72088895],\n",
              "       [5.19967706],\n",
              "       [5.59983328],\n",
              "       [5.35772196],\n",
              "       [5.33754601],\n",
              "       [5.4014365 ],\n",
              "       [5.15596252],\n",
              "       [5.09543469],\n",
              "       [5.15932518],\n",
              "       [5.12906126],\n",
              "       [5.03826951],\n",
              "       [4.90376322],\n",
              "       [5.58302   ],\n",
              "       [5.45187636],\n",
              "       [5.73097692],\n",
              "       [4.99791762],\n",
              "       [5.72761426],\n",
              "       [5.93609902],\n",
              "       [5.33754601],\n",
              "       [5.55275608],\n",
              "       [5.21649035],\n",
              "       [4.85668602],\n",
              "       [5.45523902],\n",
              "       [5.48886559],\n",
              "       [5.56620671],\n",
              "       [5.08198406],\n",
              "       [5.18622643],\n",
              "       [4.78607021]])"
            ]
          },
          "metadata": {},
          "execution_count": 81
        }
      ]
    }
  ]
}